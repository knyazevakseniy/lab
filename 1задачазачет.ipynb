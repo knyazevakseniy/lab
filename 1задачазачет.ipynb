{
  "nbformat": 4,
  "nbformat_minor": 0,
  "metadata": {
    "colab": {
      "provenance": [],
      "authorship_tag": "ABX9TyOY4IdceOXuy7UrEGJvJf3b",
      "include_colab_link": true
    },
    "kernelspec": {
      "name": "python3",
      "display_name": "Python 3"
    },
    "language_info": {
      "name": "python"
    }
  },
  "cells": [
    {
      "cell_type": "markdown",
      "metadata": {
        "id": "view-in-github",
        "colab_type": "text"
      },
      "source": [
        "<a href=\"https://colab.research.google.com/github/knyazevakseniy/lab/blob/main/1%D0%B7%D0%B0%D0%B4%D0%B0%D1%87%D0%B0%D0%B7%D0%B0%D1%87%D0%B5%D1%82.ipynb\" target=\"_parent\"><img src=\"https://colab.research.google.com/assets/colab-badge.svg\" alt=\"Open In Colab\"/></a>"
      ]
    },
    {
      "cell_type": "code",
      "execution_count": 1,
      "metadata": {
        "colab": {
          "base_uri": "https://localhost:8080/"
        },
        "id": "TlPtIJic_oxJ",
        "outputId": "192a8c94-9e59-4a9f-9edb-efedcef7f4ea"
      },
      "outputs": [
        {
          "output_type": "stream",
          "name": "stdout",
          "text": [
            "0.9999999999613637 3.999999999984116\n"
          ]
        }
      ],
      "source": [
        "import numpy as np\n",
        "from scipy.optimize import fsolve\n",
        "def f(p):\n",
        "  x,y=p\n",
        "  return(y**2-x*y-12,x**2-x*y+3)\n",
        "x,y=fsolve(f,(1,3))\n",
        "print(x,y)"
      ]
    }
  ]
}